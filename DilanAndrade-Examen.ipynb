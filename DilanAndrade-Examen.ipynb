{
  "nbformat": 4,
  "nbformat_minor": 0,
  "metadata": {
    "colab": {
      "provenance": []
    },
    "kernelspec": {
      "name": "python3",
      "display_name": "Python 3"
    },
    "language_info": {
      "name": "python"
    }
  },
  "cells": [
    {
      "cell_type": "code",
      "execution_count": 19,
      "metadata": {
        "id": "VLY5ObjBbOls"
      },
      "outputs": [],
      "source": [
        "import pandas as pd\n",
        "import os\n",
        "import spacy\n",
        "import re\n",
        "import numpy as np\n",
        "from sklearn.feature_extraction.text import CountVectorizer, TfidfVectorizer\n",
        "from sklearn.metrics.pairwise import cosine_similarity\n",
        "import gensim.downloader as api\n",
        "import nltk\n",
        "from nltk.stem import WordNetLemmatizer\n",
        "from collections import defaultdict\n",
        "from nltk.corpus import stopwords, wordnet\n",
        "from nltk import pos_tag, wordnet\n",
        "import nltk\n",
        "\n",
        "\n",
        "directorio_base = os.path.join(os.getcwd(), \"..\")"
      ]
    },
    {
      "cell_type": "code",
      "source": [
        "# Descargar recursos necesarios de NLTK\n",
        "nltk.download('punkt')\n",
        "nltk.download('wordnet')\n",
        "nltk.download('averaged_perceptron_tagger')\n",
        "nltk.download('stopwords')"
      ],
      "metadata": {
        "colab": {
          "base_uri": "https://localhost:8080/"
        },
        "id": "96prlmLfbbbP",
        "outputId": "cc73b22f-adbe-4248-9fef-63d208263927"
      },
      "execution_count": 20,
      "outputs": [
        {
          "output_type": "stream",
          "name": "stderr",
          "text": [
            "[nltk_data] Downloading package punkt to /root/nltk_data...\n",
            "[nltk_data]   Package punkt is already up-to-date!\n",
            "[nltk_data] Downloading package wordnet to /root/nltk_data...\n",
            "[nltk_data]   Package wordnet is already up-to-date!\n",
            "[nltk_data] Downloading package averaged_perceptron_tagger to\n",
            "[nltk_data]     /root/nltk_data...\n",
            "[nltk_data]   Package averaged_perceptron_tagger is already up-to-\n",
            "[nltk_data]       date!\n",
            "[nltk_data] Downloading package stopwords to /root/nltk_data...\n",
            "[nltk_data]   Package stopwords is already up-to-date!\n"
          ]
        },
        {
          "output_type": "execute_result",
          "data": {
            "text/plain": [
              "True"
            ]
          },
          "metadata": {},
          "execution_count": 20
        }
      ]
    },
    {
      "cell_type": "code",
      "source": [
        "# Ejecutar una vez para obtener dependencias necesarias\n",
        "%pip install scikit-learn gensim"
      ],
      "metadata": {
        "colab": {
          "base_uri": "https://localhost:8080/"
        },
        "id": "SdNxl_JfbetO",
        "outputId": "4c538dec-4071-433f-9074-326de318f062"
      },
      "execution_count": 21,
      "outputs": [
        {
          "output_type": "stream",
          "name": "stdout",
          "text": [
            "Requirement already satisfied: scikit-learn in /usr/local/lib/python3.10/dist-packages (1.5.2)\n",
            "Requirement already satisfied: gensim in /usr/local/lib/python3.10/dist-packages (4.3.3)\n",
            "Requirement already satisfied: numpy>=1.19.5 in /usr/local/lib/python3.10/dist-packages (from scikit-learn) (1.26.4)\n",
            "Requirement already satisfied: scipy>=1.6.0 in /usr/local/lib/python3.10/dist-packages (from scikit-learn) (1.13.1)\n",
            "Requirement already satisfied: joblib>=1.2.0 in /usr/local/lib/python3.10/dist-packages (from scikit-learn) (1.4.2)\n",
            "Requirement already satisfied: threadpoolctl>=3.1.0 in /usr/local/lib/python3.10/dist-packages (from scikit-learn) (3.5.0)\n",
            "Requirement already satisfied: smart-open>=1.8.1 in /usr/local/lib/python3.10/dist-packages (from gensim) (7.0.5)\n",
            "Requirement already satisfied: wrapt in /usr/local/lib/python3.10/dist-packages (from smart-open>=1.8.1->gensim) (1.16.0)\n"
          ]
        }
      ]
    },
    {
      "cell_type": "code",
      "source": [
        "import pandas as pd\n",
        "\n",
        "# Cargar los archivos CSV\n",
        "movies_df = pd.read_csv('rotten_tomatoes_movies.csv')  # Archivo con información de películas\n",
        "reviews_df = pd.read_csv('rotten_tomatoes_critic_reviews.csv')  # Archivo con críticas\n",
        "\n",
        "# Seleccionar solo las columnas necesarias de cada archivo\n",
        "movies_df = movies_df[['rotten_tomatoes_link', 'movie_title', 'movie_info', 'genres', 'tomatometer_status']]\n",
        "reviews_df = reviews_df[['rotten_tomatoes_link', 'review_content']]\n",
        "\n",
        "# Realizar la unión de los DataFrames usando la columna 'rotten_tomatoes_link'\n",
        "merged_df = pd.merge(movies_df, reviews_df, on='rotten_tomatoes_link', how='inner')\n",
        "\n",
        "# Asegurarse de que las críticas sean cadenas de texto, reemplazando los valores NaN por cadenas vacías\n",
        "merged_df['review_content'] = merged_df['review_content'].fillna('')\n",
        "\n",
        "# Agrupar las críticas por 'rotten_tomatoes_link' y concatenarlas en una sola celda\n",
        "merged_df = merged_df.groupby(\n",
        "    ['rotten_tomatoes_link', 'movie_title', 'movie_info', 'genres', 'tomatometer_status'],\n",
        "    as_index=False\n",
        ").agg({'review_content': lambda x: ', '.join(x)})\n",
        "\n",
        "# Guardar el resultado en un nuevo archivo CSV\n",
        "merged_df.to_csv('merged_movies_reviews.csv', index=False)\n",
        "\n",
        "# Mostrar las primeras filas del DataFrame resultante\n",
        "print(merged_df.head())\n",
        "\n"
      ],
      "metadata": {
        "colab": {
          "base_uri": "https://localhost:8080/"
        },
        "id": "bELa40PNmhvs",
        "outputId": "70a8ddb7-f18a-401d-91ad-eb24f7952885"
      },
      "execution_count": 36,
      "outputs": [
        {
          "output_type": "stream",
          "name": "stdout",
          "text": [
            "                    rotten_tomatoes_link  \\\n",
            "0                              m/0814255   \n",
            "1                              m/0878835   \n",
            "2                                   m/10   \n",
            "3                 m/1000013-12_angry_men   \n",
            "4  m/1000079-20000_leagues_under_the_sea   \n",
            "\n",
            "                                         movie_title  \\\n",
            "0  Percy Jackson & the Olympians: The Lightning T...   \n",
            "1                                        Please Give   \n",
            "2                                                 10   \n",
            "3                    12 Angry Men (Twelve Angry Men)   \n",
            "4                       20,000 Leagues Under The Sea   \n",
            "\n",
            "                                          movie_info  \\\n",
            "0  Always trouble-prone, the life of teenager Per...   \n",
            "1  Kate (Catherine Keener) and her husband Alex (...   \n",
            "2  A successful, middle-aged Hollywood songwriter...   \n",
            "3  Following the closing arguments in a murder tr...   \n",
            "4  In 1866, Professor Pierre M. Aronnax (Paul Luk...   \n",
            "\n",
            "                                              genres tomatometer_status  \\\n",
            "0  Action & Adventure, Comedy, Drama, Science Fic...             Rotten   \n",
            "1                                             Comedy    Certified-Fresh   \n",
            "2                                    Comedy, Romance              Fresh   \n",
            "3                                    Classics, Drama    Certified-Fresh   \n",
            "4           Action & Adventure, Drama, Kids & Family              Fresh   \n",
            "\n",
            "                                      review_content  \n",
            "0  A fantasy adventure that fuses Greek mythology...  \n",
            "1  Like Holofcener's previous pictures, Please Gi...  \n",
            "2  10 (1979) is known for its numerical rating sy...  \n",
            "3  A film with texture, humour and relevance at a...  \n",
            "4  [The] embodiment of Disney at his best -- fami...  \n"
          ]
        }
      ]
    },
    {
      "cell_type": "code",
      "source": [
        "import pandas as pd\n",
        "import re\n",
        "from nltk.corpus import stopwords\n",
        "\n",
        "# Configuración\n",
        "stopwords_set = set(stopwords.words('english'))\n",
        "signos_puntuacion_regex = re.compile(r\"[,.:\\-_\\+\\;\\(\\)\\[\\]%\\$#@&\\?!\\/><]+\")\n",
        "\n",
        "# Preprocesamiento simplificado de 'review_content'\n",
        "def preprocesar_review_content_rapido(contenido):\n",
        "    contenido = contenido.lower()  # Convertir a minúsculas\n",
        "    contenido = re.sub(r'\\d+', '', contenido)  # Eliminar números\n",
        "    contenido = signos_puntuacion_regex.sub('', contenido)  # Eliminar signos de puntuación\n",
        "    contenido = re.sub(r'\\s+', ' ', contenido)  # Espacios múltiples\n",
        "    tokens = contenido.split()  # Tokenización básica\n",
        "    return \" \".join(word for word in tokens if word not in stopwords_set)  # Eliminar stopwords\n",
        "\n",
        "# Cargar solo 'review_content'\n",
        "df = pd.read_csv('merged_movies_reviews.csv', usecols=['review_content'])\n",
        "df['review_content'] = df['review_content'].fillna('')  # Rellenar nulos\n",
        "\n",
        "# Aplicar preprocesamiento rápido\n",
        "df['review_content'] = df['review_content'].apply(preprocesar_review_content_rapido)\n",
        "\n",
        "# Guardar resultados\n",
        "df.to_csv('processed_review_content.csv', index=False)\n",
        "print(\"Preprocesamiento completado. Guardado en 'processed1_review_content.csv'\")\n"
      ],
      "metadata": {
        "colab": {
          "base_uri": "https://localhost:8080/"
        },
        "id": "FGh4ZzcMsF5c",
        "outputId": "ce08531f-ddca-46b7-d57f-0531abcfaa69"
      },
      "execution_count": 32,
      "outputs": [
        {
          "output_type": "stream",
          "name": "stdout",
          "text": [
            "Preprocesamiento rápido completado. Guardado en 'processed1_review_content.csv'\n"
          ]
        }
      ]
    },
    {
      "cell_type": "code",
      "source": [
        "\n",
        "\n",
        "# Cargar ambos archivos CSV\n",
        "merged_df = pd.read_csv('merged_movies_reviews.csv')\n",
        "processed_df = pd.read_csv('processed_review_content.csv')\n",
        "\n",
        "# Asegurarse de que ambos DataFrames tengan la misma columna 'rotten_tomatoes_link' para realizar la unión\n",
        "# Realizar la unión de los DataFrames usando 'rotten_tomatoes_link'\n",
        "merged_df = pd.merge(merged_df, processed_df[['review_content']], left_index=True, right_index=True, how='inner')\n",
        "\n",
        "# Sobrescribir la columna 'review_content' en merged_df con la de processed_df\n",
        "merged_df['review_content'] = merged_df['review_content_y']\n",
        "\n",
        "# Eliminar la columna auxiliar 'review_content_y'\n",
        "merged_df.drop(columns=['review_content_y'], inplace=True)\n",
        "\n",
        "# Guardar el DataFrame resultante en un nuevo archivo CSV\n",
        "merged_df.to_csv('merged_and_processed_movies_reviews.csv', index=False)\n",
        "\n",
        "# Mostrar las primeras filas del DataFrame resultante\n",
        "print(merged_df.head())\n"
      ],
      "metadata": {
        "colab": {
          "base_uri": "https://localhost:8080/"
        },
        "id": "NNTVFu8tu9B6",
        "outputId": "96c21fcc-52c3-4684-8fa7-4afe65aa5f8e"
      },
      "execution_count": 38,
      "outputs": [
        {
          "output_type": "stream",
          "name": "stdout",
          "text": [
            "                    rotten_tomatoes_link  \\\n",
            "0                              m/0814255   \n",
            "1                              m/0878835   \n",
            "2                                   m/10   \n",
            "3                 m/1000013-12_angry_men   \n",
            "4  m/1000079-20000_leagues_under_the_sea   \n",
            "\n",
            "                                         movie_title  \\\n",
            "0  Percy Jackson & the Olympians: The Lightning T...   \n",
            "1                                        Please Give   \n",
            "2                                                 10   \n",
            "3                    12 Angry Men (Twelve Angry Men)   \n",
            "4                       20,000 Leagues Under The Sea   \n",
            "\n",
            "                                          movie_info  \\\n",
            "0  Always trouble-prone, the life of teenager Per...   \n",
            "1  Kate (Catherine Keener) and her husband Alex (...   \n",
            "2  A successful, middle-aged Hollywood songwriter...   \n",
            "3  Following the closing arguments in a murder tr...   \n",
            "4  In 1866, Professor Pierre M. Aronnax (Paul Luk...   \n",
            "\n",
            "                                              genres tomatometer_status  \\\n",
            "0  Action & Adventure, Comedy, Drama, Science Fic...             Rotten   \n",
            "1                                             Comedy    Certified-Fresh   \n",
            "2                                    Comedy, Romance              Fresh   \n",
            "3                                    Classics, Drama    Certified-Fresh   \n",
            "4           Action & Adventure, Drama, Kids & Family              Fresh   \n",
            "\n",
            "                                    review_content_x  \\\n",
            "0  A fantasy adventure that fuses Greek mythology...   \n",
            "1  Like Holofcener's previous pictures, Please Gi...   \n",
            "2  10 (1979) is known for its numerical rating sy...   \n",
            "3  A film with texture, humour and relevance at a...   \n",
            "4  [The] embodiment of Disney at his best -- fami...   \n",
            "\n",
            "                                      review_content  \n",
            "0  fantasy adventure fuses greek mythology contem...  \n",
            "1  like holofcener's previous pictures please giv...  \n",
            "2  known numerical rating system beautiful women ...  \n",
            "3  film texture humour relevance times minutes ti...  \n",
            "4  embodiment disney best family entertainment su...  \n"
          ]
        }
      ]
    },
    {
      "cell_type": "code",
      "source": [
        "import pandas as pd\n",
        "from sklearn.feature_extraction.text import CountVectorizer\n",
        "from sklearn.metrics.pairwise import cosine_similarity\n",
        "\n",
        "# Cargar el archivo CSV preprocesado\n",
        "merged_df = pd.read_csv('merged_and_processed_movies_reviews.csv')\n",
        "\n",
        "# Asegurarse de que no haya valores NaN en 'review_content'\n",
        "merged_df['review_content'] = merged_df['review_content'].fillna('')\n",
        "\n",
        "# Vectorización con Bag of Words (BoW)\n",
        "vectorizer = CountVectorizer()\n",
        "X = vectorizer.fit_transform(merged_df['review_content'])  # Vectorizamos las críticas\n",
        "\n",
        "# Función para responder consultas\n",
        "def buscar_peliculas(query, vectorizer, corpus, top_n=5):\n",
        "    \"\"\"\n",
        "    Responde a una consulta textual, devolviendo las películas más relevantes,\n",
        "    incluyendo título, información y género.\n",
        "\n",
        "    :param query: La consulta textual de ejemplo (str).\n",
        "    :param vectorizer: El vectorizador BoW entrenado.\n",
        "    :param corpus: El corpus de textos (críticas).\n",
        "    :param top_n: Número de películas más relevantes a devolver.\n",
        "    :return: DataFrame con las películas más relevantes.\n",
        "    \"\"\"\n",
        "    # Convertir la consulta en un vector usando el vectorizador\n",
        "    query_vector = vectorizer.transform([query])\n",
        "\n",
        "    # Calcular la similitud coseno entre la consulta y el corpus\n",
        "    similitudes = cosine_similarity(query_vector, corpus)\n",
        "\n",
        "    # Obtener los índices de las top_n películas más similares\n",
        "    indices_relevantes = similitudes.argsort()[0][-top_n:][::-1]\n",
        "\n",
        "    # Obtener los detalles de las películas correspondientes a esos índices\n",
        "    peliculas_relevantes = merged_df.iloc[indices_relevantes][['movie_title', 'movie_info', 'genres']]\n",
        "\n",
        "    return peliculas_relevantes\n",
        "\n",
        "# Ejemplo de consulta\n",
        "consulta_1 = \"Películas sobre viajes espaciales.\"\n",
        "consulta_2 = \"Películas para ver en familia.\"\n",
        "\n",
        "# Buscar películas relevantes para ambas consultas\n",
        "resultados_1 = buscar_peliculas(consulta_1, vectorizer, X)\n",
        "resultados_2 = buscar_peliculas(consulta_2, vectorizer, X)\n",
        "\n",
        "# Mostrar los resultados\n",
        "print(\"Resultados para la consulta:\", consulta_1)\n",
        "print(resultados_1)\n",
        "print(\"\\nResultados para la consulta:\", consulta_2)\n",
        "print(resultados_2)\n"
      ],
      "metadata": {
        "colab": {
          "base_uri": "https://localhost:8080/"
        },
        "id": "Hd_iicJ3xFK6",
        "outputId": "4cd6fe49-3b3d-41fd-a664-6a392b401c37"
      },
      "execution_count": 41,
      "outputs": [
        {
          "output_type": "stream",
          "name": "stdout",
          "text": [
            "Resultados para la consulta: Películas sobre viajes espaciales.\n",
            "                                 movie_title  \\\n",
            "16323                 Un Oso rojo (Red Bear)   \n",
            "11415                  Paris When It Sizzles   \n",
            "8348   Is Paris Burning? (Paris brûle-t-il?)   \n",
            "15975                                Tiptoes   \n",
            "1886                                    1984   \n",
            "\n",
            "                                              movie_info  \\\n",
            "16323  Released from prison, a man (Julio Chávez) re-...   \n",
            "11415  Hotshot Hollywood screenwriter Richard Benson ...   \n",
            "8348   Near the end of World War II, Gen. Dietrich vo...   \n",
            "15975  A man (Matthew McConaughey) is reluctant to te...   \n",
            "1886   A man loses his identity while living under a ...   \n",
            "\n",
            "                                           genres  \n",
            "16323            Art House & International, Drama  \n",
            "11415                   Classics, Comedy, Romance  \n",
            "8348   Art House & International, Classics, Drama  \n",
            "15975    Art House & International, Comedy, Drama  \n",
            "1886    Drama, Science Fiction & Fantasy, Romance  \n",
            "\n",
            "Resultados para la consulta: Películas para ver en familia.\n",
            "                    movie_title  \\\n",
            "3778                 Body Shots   \n",
            "14492                   The Cup   \n",
            "1406         Unconditional Love   \n",
            "9005   La Vie en Rose (La Mome)   \n",
            "5547      Don't Bother to Knock   \n",
            "\n",
            "                                              movie_info  \\\n",
            "3778   The Los Angeles club scene is a place of booze...   \n",
            "14492  Inspired by true events, the story follows two...   \n",
            "1406   After her husband (Dan Aykroyd) leaves her, a ...   \n",
            "9005   Born into poverty and raised in a brothel, Édi...   \n",
            "5547   Pilot Jed Towers (Richard Widmark) encounters ...   \n",
            "\n",
            "                                                  genres  \n",
            "3778                                               Drama  \n",
            "14492           Art House & International, Comedy, Drama  \n",
            "1406   Comedy, Drama, Musical & Performing Arts, Myst...  \n",
            "9005                    Art House & International, Drama  \n",
            "5547                 Classics, Drama, Mystery & Suspense  \n"
          ]
        }
      ]
    }
  ]
}